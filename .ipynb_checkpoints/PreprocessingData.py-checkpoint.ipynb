{
 "cells": [
  {
   "cell_type": "markdown",
   "metadata": {},
   "source": [
    "## Imports + validating data"
   ]
  },
  {
   "cell_type": "code",
   "execution_count": 1,
   "metadata": {},
   "outputs": [],
   "source": [
    "import warnings\n",
    "warnings.filterwarnings(\"ignore\")\n",
    "\n",
    "import pandas as pd\n",
    "import numpy as np\n",
    "import matplotlib.pyplot as plt\n",
    "%matplotlib inline"
   ]
  },
  {
   "cell_type": "code",
   "execution_count": 2,
   "metadata": {},
   "outputs": [],
   "source": [
    "data = pd.read_csv(\"zomato.csv\", encoding = \"ISO-8859-1\")"
   ]
  },
  {
   "cell_type": "code",
   "execution_count": 3,
   "metadata": {},
   "outputs": [
    {
     "data": {
      "text/html": [
       "<div>\n",
       "<style scoped>\n",
       "    .dataframe tbody tr th:only-of-type {\n",
       "        vertical-align: middle;\n",
       "    }\n",
       "\n",
       "    .dataframe tbody tr th {\n",
       "        vertical-align: top;\n",
       "    }\n",
       "\n",
       "    .dataframe thead th {\n",
       "        text-align: right;\n",
       "    }\n",
       "</style>\n",
       "<table border=\"1\" class=\"dataframe\">\n",
       "  <thead>\n",
       "    <tr style=\"text-align: right;\">\n",
       "      <th></th>\n",
       "      <th>Restaurant ID</th>\n",
       "      <th>Restaurant Name</th>\n",
       "      <th>Country Code</th>\n",
       "      <th>City</th>\n",
       "      <th>Address</th>\n",
       "      <th>Locality</th>\n",
       "      <th>Locality Verbose</th>\n",
       "      <th>Longitude</th>\n",
       "      <th>Latitude</th>\n",
       "      <th>Cuisines</th>\n",
       "      <th>...</th>\n",
       "      <th>Currency</th>\n",
       "      <th>Has Table booking</th>\n",
       "      <th>Has Online delivery</th>\n",
       "      <th>Is delivering now</th>\n",
       "      <th>Switch to order menu</th>\n",
       "      <th>Price range</th>\n",
       "      <th>Aggregate rating</th>\n",
       "      <th>Rating color</th>\n",
       "      <th>Rating text</th>\n",
       "      <th>Votes</th>\n",
       "    </tr>\n",
       "  </thead>\n",
       "  <tbody>\n",
       "    <tr>\n",
       "      <th>0</th>\n",
       "      <td>6317637</td>\n",
       "      <td>Le Petit Souffle</td>\n",
       "      <td>162</td>\n",
       "      <td>Makati City</td>\n",
       "      <td>Third Floor, Century City Mall, Kalayaan Avenu...</td>\n",
       "      <td>Century City Mall, Poblacion, Makati City</td>\n",
       "      <td>Century City Mall, Poblacion, Makati City, Mak...</td>\n",
       "      <td>121.027535</td>\n",
       "      <td>14.565443</td>\n",
       "      <td>French, Japanese, Desserts</td>\n",
       "      <td>...</td>\n",
       "      <td>Botswana Pula(P)</td>\n",
       "      <td>Yes</td>\n",
       "      <td>No</td>\n",
       "      <td>No</td>\n",
       "      <td>No</td>\n",
       "      <td>3</td>\n",
       "      <td>4.8</td>\n",
       "      <td>Dark Green</td>\n",
       "      <td>Excellent</td>\n",
       "      <td>314</td>\n",
       "    </tr>\n",
       "    <tr>\n",
       "      <th>1</th>\n",
       "      <td>6304287</td>\n",
       "      <td>Izakaya Kikufuji</td>\n",
       "      <td>162</td>\n",
       "      <td>Makati City</td>\n",
       "      <td>Little Tokyo, 2277 Chino Roces Avenue, Legaspi...</td>\n",
       "      <td>Little Tokyo, Legaspi Village, Makati City</td>\n",
       "      <td>Little Tokyo, Legaspi Village, Makati City, Ma...</td>\n",
       "      <td>121.014101</td>\n",
       "      <td>14.553708</td>\n",
       "      <td>Japanese</td>\n",
       "      <td>...</td>\n",
       "      <td>Botswana Pula(P)</td>\n",
       "      <td>Yes</td>\n",
       "      <td>No</td>\n",
       "      <td>No</td>\n",
       "      <td>No</td>\n",
       "      <td>3</td>\n",
       "      <td>4.5</td>\n",
       "      <td>Dark Green</td>\n",
       "      <td>Excellent</td>\n",
       "      <td>591</td>\n",
       "    </tr>\n",
       "    <tr>\n",
       "      <th>2</th>\n",
       "      <td>6300002</td>\n",
       "      <td>Heat - Edsa Shangri-La</td>\n",
       "      <td>162</td>\n",
       "      <td>Mandaluyong City</td>\n",
       "      <td>Edsa Shangri-La, 1 Garden Way, Ortigas, Mandal...</td>\n",
       "      <td>Edsa Shangri-La, Ortigas, Mandaluyong City</td>\n",
       "      <td>Edsa Shangri-La, Ortigas, Mandaluyong City, Ma...</td>\n",
       "      <td>121.056831</td>\n",
       "      <td>14.581404</td>\n",
       "      <td>Seafood, Asian, Filipino, Indian</td>\n",
       "      <td>...</td>\n",
       "      <td>Botswana Pula(P)</td>\n",
       "      <td>Yes</td>\n",
       "      <td>No</td>\n",
       "      <td>No</td>\n",
       "      <td>No</td>\n",
       "      <td>4</td>\n",
       "      <td>4.4</td>\n",
       "      <td>Green</td>\n",
       "      <td>Very Good</td>\n",
       "      <td>270</td>\n",
       "    </tr>\n",
       "    <tr>\n",
       "      <th>3</th>\n",
       "      <td>6318506</td>\n",
       "      <td>Ooma</td>\n",
       "      <td>162</td>\n",
       "      <td>Mandaluyong City</td>\n",
       "      <td>Third Floor, Mega Fashion Hall, SM Megamall, O...</td>\n",
       "      <td>SM Megamall, Ortigas, Mandaluyong City</td>\n",
       "      <td>SM Megamall, Ortigas, Mandaluyong City, Mandal...</td>\n",
       "      <td>121.056475</td>\n",
       "      <td>14.585318</td>\n",
       "      <td>Japanese, Sushi</td>\n",
       "      <td>...</td>\n",
       "      <td>Botswana Pula(P)</td>\n",
       "      <td>No</td>\n",
       "      <td>No</td>\n",
       "      <td>No</td>\n",
       "      <td>No</td>\n",
       "      <td>4</td>\n",
       "      <td>4.9</td>\n",
       "      <td>Dark Green</td>\n",
       "      <td>Excellent</td>\n",
       "      <td>365</td>\n",
       "    </tr>\n",
       "    <tr>\n",
       "      <th>4</th>\n",
       "      <td>6314302</td>\n",
       "      <td>Sambo Kojin</td>\n",
       "      <td>162</td>\n",
       "      <td>Mandaluyong City</td>\n",
       "      <td>Third Floor, Mega Atrium, SM Megamall, Ortigas...</td>\n",
       "      <td>SM Megamall, Ortigas, Mandaluyong City</td>\n",
       "      <td>SM Megamall, Ortigas, Mandaluyong City, Mandal...</td>\n",
       "      <td>121.057508</td>\n",
       "      <td>14.584450</td>\n",
       "      <td>Japanese, Korean</td>\n",
       "      <td>...</td>\n",
       "      <td>Botswana Pula(P)</td>\n",
       "      <td>Yes</td>\n",
       "      <td>No</td>\n",
       "      <td>No</td>\n",
       "      <td>No</td>\n",
       "      <td>4</td>\n",
       "      <td>4.8</td>\n",
       "      <td>Dark Green</td>\n",
       "      <td>Excellent</td>\n",
       "      <td>229</td>\n",
       "    </tr>\n",
       "  </tbody>\n",
       "</table>\n",
       "<p>5 rows × 21 columns</p>\n",
       "</div>"
      ],
      "text/plain": [
       "   Restaurant ID         Restaurant Name  Country Code              City  \\\n",
       "0        6317637        Le Petit Souffle           162       Makati City   \n",
       "1        6304287        Izakaya Kikufuji           162       Makati City   \n",
       "2        6300002  Heat - Edsa Shangri-La           162  Mandaluyong City   \n",
       "3        6318506                    Ooma           162  Mandaluyong City   \n",
       "4        6314302             Sambo Kojin           162  Mandaluyong City   \n",
       "\n",
       "                                             Address  \\\n",
       "0  Third Floor, Century City Mall, Kalayaan Avenu...   \n",
       "1  Little Tokyo, 2277 Chino Roces Avenue, Legaspi...   \n",
       "2  Edsa Shangri-La, 1 Garden Way, Ortigas, Mandal...   \n",
       "3  Third Floor, Mega Fashion Hall, SM Megamall, O...   \n",
       "4  Third Floor, Mega Atrium, SM Megamall, Ortigas...   \n",
       "\n",
       "                                     Locality  \\\n",
       "0   Century City Mall, Poblacion, Makati City   \n",
       "1  Little Tokyo, Legaspi Village, Makati City   \n",
       "2  Edsa Shangri-La, Ortigas, Mandaluyong City   \n",
       "3      SM Megamall, Ortigas, Mandaluyong City   \n",
       "4      SM Megamall, Ortigas, Mandaluyong City   \n",
       "\n",
       "                                    Locality Verbose   Longitude   Latitude  \\\n",
       "0  Century City Mall, Poblacion, Makati City, Mak...  121.027535  14.565443   \n",
       "1  Little Tokyo, Legaspi Village, Makati City, Ma...  121.014101  14.553708   \n",
       "2  Edsa Shangri-La, Ortigas, Mandaluyong City, Ma...  121.056831  14.581404   \n",
       "3  SM Megamall, Ortigas, Mandaluyong City, Mandal...  121.056475  14.585318   \n",
       "4  SM Megamall, Ortigas, Mandaluyong City, Mandal...  121.057508  14.584450   \n",
       "\n",
       "                           Cuisines  ...           Currency Has Table booking  \\\n",
       "0        French, Japanese, Desserts  ...   Botswana Pula(P)               Yes   \n",
       "1                          Japanese  ...   Botswana Pula(P)               Yes   \n",
       "2  Seafood, Asian, Filipino, Indian  ...   Botswana Pula(P)               Yes   \n",
       "3                   Japanese, Sushi  ...   Botswana Pula(P)                No   \n",
       "4                  Japanese, Korean  ...   Botswana Pula(P)               Yes   \n",
       "\n",
       "  Has Online delivery Is delivering now Switch to order menu Price range  \\\n",
       "0                  No                No                   No           3   \n",
       "1                  No                No                   No           3   \n",
       "2                  No                No                   No           4   \n",
       "3                  No                No                   No           4   \n",
       "4                  No                No                   No           4   \n",
       "\n",
       "   Aggregate rating  Rating color Rating text Votes  \n",
       "0               4.8    Dark Green   Excellent   314  \n",
       "1               4.5    Dark Green   Excellent   591  \n",
       "2               4.4         Green   Very Good   270  \n",
       "3               4.9    Dark Green   Excellent   365  \n",
       "4               4.8    Dark Green   Excellent   229  \n",
       "\n",
       "[5 rows x 21 columns]"
      ]
     },
     "execution_count": 3,
     "metadata": {},
     "output_type": "execute_result"
    }
   ],
   "source": [
    "data.head()"
   ]
  },
  {
   "cell_type": "code",
   "execution_count": 4,
   "metadata": {},
   "outputs": [
    {
     "data": {
      "text/plain": [
       "Index(['Restaurant ID', 'Restaurant Name', 'Country Code', 'City', 'Address',\n",
       "       'Locality', 'Locality Verbose', 'Longitude', 'Latitude', 'Cuisines',\n",
       "       'Average Cost for two', 'Currency', 'Has Table booking',\n",
       "       'Has Online delivery', 'Is delivering now', 'Switch to order menu',\n",
       "       'Price range', 'Aggregate rating', 'Rating color', 'Rating text',\n",
       "       'Votes'],\n",
       "      dtype='object')"
      ]
     },
     "execution_count": 4,
     "metadata": {},
     "output_type": "execute_result"
    }
   ],
   "source": [
    "data.columns"
   ]
  },
  {
   "cell_type": "code",
   "execution_count": 5,
   "metadata": {},
   "outputs": [
    {
     "data": {
      "text/plain": [
       "(9551, 21)"
      ]
     },
     "execution_count": 5,
     "metadata": {},
     "output_type": "execute_result"
    }
   ],
   "source": [
    "data.shape"
   ]
  },
  {
   "cell_type": "code",
   "execution_count": 6,
   "metadata": {},
   "outputs": [],
   "source": [
    "data.dropna(inplace=True)\n",
    "data.reset_index(drop=True, inplace=True)"
   ]
  },
  {
   "cell_type": "code",
   "execution_count": 7,
   "metadata": {},
   "outputs": [
    {
     "data": {
      "text/plain": [
       "(9542, 21)"
      ]
     },
     "execution_count": 7,
     "metadata": {},
     "output_type": "execute_result"
    }
   ],
   "source": [
    "data.shape"
   ]
  },
  {
   "cell_type": "markdown",
   "metadata": {},
   "source": [
    "### What do we know?\n",
    "#### We know so far that:\n",
    "* The data has no nan\n",
    "* The data has no nulls\n",
    "* The data has 21 columns and about 9.5k samples"
   ]
  },
  {
   "cell_type": "markdown",
   "metadata": {},
   "source": [
    "# Data Exploration"
   ]
  },
  {
   "cell_type": "markdown",
   "metadata": {},
   "source": [
    "## Determing best country codes"
   ]
  },
  {
   "cell_type": "code",
   "execution_count": 8,
   "metadata": {},
   "outputs": [
    {
     "data": {
      "text/plain": [
       "Index(['Restaurant ID', 'Restaurant Name', 'Country Code', 'City', 'Address',\n",
       "       'Locality', 'Locality Verbose', 'Longitude', 'Latitude', 'Cuisines',\n",
       "       'Average Cost for two', 'Currency', 'Has Table booking',\n",
       "       'Has Online delivery', 'Is delivering now', 'Switch to order menu',\n",
       "       'Price range', 'Aggregate rating', 'Rating color', 'Rating text',\n",
       "       'Votes'],\n",
       "      dtype='object')"
      ]
     },
     "execution_count": 8,
     "metadata": {},
     "output_type": "execute_result"
    }
   ],
   "source": [
    "data.columns"
   ]
  },
  {
   "cell_type": "code",
   "execution_count": 9,
   "metadata": {},
   "outputs": [
    {
     "data": {
      "text/html": [
       "<div>\n",
       "<style scoped>\n",
       "    .dataframe tbody tr th:only-of-type {\n",
       "        vertical-align: middle;\n",
       "    }\n",
       "\n",
       "    .dataframe tbody tr th {\n",
       "        vertical-align: top;\n",
       "    }\n",
       "\n",
       "    .dataframe thead th {\n",
       "        text-align: right;\n",
       "    }\n",
       "</style>\n",
       "<table border=\"1\" class=\"dataframe\">\n",
       "  <thead>\n",
       "    <tr style=\"text-align: right;\">\n",
       "      <th></th>\n",
       "      <th>Restaurant ID</th>\n",
       "      <th>Restaurant Name</th>\n",
       "      <th>Country Code</th>\n",
       "      <th>City</th>\n",
       "      <th>Address</th>\n",
       "      <th>Locality</th>\n",
       "      <th>Locality Verbose</th>\n",
       "      <th>Longitude</th>\n",
       "      <th>Latitude</th>\n",
       "      <th>Cuisines</th>\n",
       "      <th>...</th>\n",
       "      <th>Currency</th>\n",
       "      <th>Has Table booking</th>\n",
       "      <th>Has Online delivery</th>\n",
       "      <th>Is delivering now</th>\n",
       "      <th>Switch to order menu</th>\n",
       "      <th>Price range</th>\n",
       "      <th>Aggregate rating</th>\n",
       "      <th>Rating color</th>\n",
       "      <th>Rating text</th>\n",
       "      <th>Votes</th>\n",
       "    </tr>\n",
       "  </thead>\n",
       "  <tbody>\n",
       "    <tr>\n",
       "      <th>0</th>\n",
       "      <td>6317637</td>\n",
       "      <td>Le Petit Souffle</td>\n",
       "      <td>162</td>\n",
       "      <td>Makati City</td>\n",
       "      <td>Third Floor, Century City Mall, Kalayaan Avenu...</td>\n",
       "      <td>Century City Mall, Poblacion, Makati City</td>\n",
       "      <td>Century City Mall, Poblacion, Makati City, Mak...</td>\n",
       "      <td>121.027535</td>\n",
       "      <td>14.565443</td>\n",
       "      <td>French, Japanese, Desserts</td>\n",
       "      <td>...</td>\n",
       "      <td>Botswana Pula(P)</td>\n",
       "      <td>Yes</td>\n",
       "      <td>No</td>\n",
       "      <td>No</td>\n",
       "      <td>No</td>\n",
       "      <td>3</td>\n",
       "      <td>4.8</td>\n",
       "      <td>Dark Green</td>\n",
       "      <td>Excellent</td>\n",
       "      <td>314</td>\n",
       "    </tr>\n",
       "    <tr>\n",
       "      <th>1</th>\n",
       "      <td>6304287</td>\n",
       "      <td>Izakaya Kikufuji</td>\n",
       "      <td>162</td>\n",
       "      <td>Makati City</td>\n",
       "      <td>Little Tokyo, 2277 Chino Roces Avenue, Legaspi...</td>\n",
       "      <td>Little Tokyo, Legaspi Village, Makati City</td>\n",
       "      <td>Little Tokyo, Legaspi Village, Makati City, Ma...</td>\n",
       "      <td>121.014101</td>\n",
       "      <td>14.553708</td>\n",
       "      <td>Japanese</td>\n",
       "      <td>...</td>\n",
       "      <td>Botswana Pula(P)</td>\n",
       "      <td>Yes</td>\n",
       "      <td>No</td>\n",
       "      <td>No</td>\n",
       "      <td>No</td>\n",
       "      <td>3</td>\n",
       "      <td>4.5</td>\n",
       "      <td>Dark Green</td>\n",
       "      <td>Excellent</td>\n",
       "      <td>591</td>\n",
       "    </tr>\n",
       "    <tr>\n",
       "      <th>2</th>\n",
       "      <td>6300002</td>\n",
       "      <td>Heat - Edsa Shangri-La</td>\n",
       "      <td>162</td>\n",
       "      <td>Mandaluyong City</td>\n",
       "      <td>Edsa Shangri-La, 1 Garden Way, Ortigas, Mandal...</td>\n",
       "      <td>Edsa Shangri-La, Ortigas, Mandaluyong City</td>\n",
       "      <td>Edsa Shangri-La, Ortigas, Mandaluyong City, Ma...</td>\n",
       "      <td>121.056831</td>\n",
       "      <td>14.581404</td>\n",
       "      <td>Seafood, Asian, Filipino, Indian</td>\n",
       "      <td>...</td>\n",
       "      <td>Botswana Pula(P)</td>\n",
       "      <td>Yes</td>\n",
       "      <td>No</td>\n",
       "      <td>No</td>\n",
       "      <td>No</td>\n",
       "      <td>4</td>\n",
       "      <td>4.4</td>\n",
       "      <td>Green</td>\n",
       "      <td>Very Good</td>\n",
       "      <td>270</td>\n",
       "    </tr>\n",
       "    <tr>\n",
       "      <th>3</th>\n",
       "      <td>6318506</td>\n",
       "      <td>Ooma</td>\n",
       "      <td>162</td>\n",
       "      <td>Mandaluyong City</td>\n",
       "      <td>Third Floor, Mega Fashion Hall, SM Megamall, O...</td>\n",
       "      <td>SM Megamall, Ortigas, Mandaluyong City</td>\n",
       "      <td>SM Megamall, Ortigas, Mandaluyong City, Mandal...</td>\n",
       "      <td>121.056475</td>\n",
       "      <td>14.585318</td>\n",
       "      <td>Japanese, Sushi</td>\n",
       "      <td>...</td>\n",
       "      <td>Botswana Pula(P)</td>\n",
       "      <td>No</td>\n",
       "      <td>No</td>\n",
       "      <td>No</td>\n",
       "      <td>No</td>\n",
       "      <td>4</td>\n",
       "      <td>4.9</td>\n",
       "      <td>Dark Green</td>\n",
       "      <td>Excellent</td>\n",
       "      <td>365</td>\n",
       "    </tr>\n",
       "    <tr>\n",
       "      <th>4</th>\n",
       "      <td>6314302</td>\n",
       "      <td>Sambo Kojin</td>\n",
       "      <td>162</td>\n",
       "      <td>Mandaluyong City</td>\n",
       "      <td>Third Floor, Mega Atrium, SM Megamall, Ortigas...</td>\n",
       "      <td>SM Megamall, Ortigas, Mandaluyong City</td>\n",
       "      <td>SM Megamall, Ortigas, Mandaluyong City, Mandal...</td>\n",
       "      <td>121.057508</td>\n",
       "      <td>14.584450</td>\n",
       "      <td>Japanese, Korean</td>\n",
       "      <td>...</td>\n",
       "      <td>Botswana Pula(P)</td>\n",
       "      <td>Yes</td>\n",
       "      <td>No</td>\n",
       "      <td>No</td>\n",
       "      <td>No</td>\n",
       "      <td>4</td>\n",
       "      <td>4.8</td>\n",
       "      <td>Dark Green</td>\n",
       "      <td>Excellent</td>\n",
       "      <td>229</td>\n",
       "    </tr>\n",
       "  </tbody>\n",
       "</table>\n",
       "<p>5 rows × 21 columns</p>\n",
       "</div>"
      ],
      "text/plain": [
       "   Restaurant ID         Restaurant Name  Country Code              City  \\\n",
       "0        6317637        Le Petit Souffle           162       Makati City   \n",
       "1        6304287        Izakaya Kikufuji           162       Makati City   \n",
       "2        6300002  Heat - Edsa Shangri-La           162  Mandaluyong City   \n",
       "3        6318506                    Ooma           162  Mandaluyong City   \n",
       "4        6314302             Sambo Kojin           162  Mandaluyong City   \n",
       "\n",
       "                                             Address  \\\n",
       "0  Third Floor, Century City Mall, Kalayaan Avenu...   \n",
       "1  Little Tokyo, 2277 Chino Roces Avenue, Legaspi...   \n",
       "2  Edsa Shangri-La, 1 Garden Way, Ortigas, Mandal...   \n",
       "3  Third Floor, Mega Fashion Hall, SM Megamall, O...   \n",
       "4  Third Floor, Mega Atrium, SM Megamall, Ortigas...   \n",
       "\n",
       "                                     Locality  \\\n",
       "0   Century City Mall, Poblacion, Makati City   \n",
       "1  Little Tokyo, Legaspi Village, Makati City   \n",
       "2  Edsa Shangri-La, Ortigas, Mandaluyong City   \n",
       "3      SM Megamall, Ortigas, Mandaluyong City   \n",
       "4      SM Megamall, Ortigas, Mandaluyong City   \n",
       "\n",
       "                                    Locality Verbose   Longitude   Latitude  \\\n",
       "0  Century City Mall, Poblacion, Makati City, Mak...  121.027535  14.565443   \n",
       "1  Little Tokyo, Legaspi Village, Makati City, Ma...  121.014101  14.553708   \n",
       "2  Edsa Shangri-La, Ortigas, Mandaluyong City, Ma...  121.056831  14.581404   \n",
       "3  SM Megamall, Ortigas, Mandaluyong City, Mandal...  121.056475  14.585318   \n",
       "4  SM Megamall, Ortigas, Mandaluyong City, Mandal...  121.057508  14.584450   \n",
       "\n",
       "                           Cuisines  ...           Currency Has Table booking  \\\n",
       "0        French, Japanese, Desserts  ...   Botswana Pula(P)               Yes   \n",
       "1                          Japanese  ...   Botswana Pula(P)               Yes   \n",
       "2  Seafood, Asian, Filipino, Indian  ...   Botswana Pula(P)               Yes   \n",
       "3                   Japanese, Sushi  ...   Botswana Pula(P)                No   \n",
       "4                  Japanese, Korean  ...   Botswana Pula(P)               Yes   \n",
       "\n",
       "  Has Online delivery Is delivering now Switch to order menu Price range  \\\n",
       "0                  No                No                   No           3   \n",
       "1                  No                No                   No           3   \n",
       "2                  No                No                   No           4   \n",
       "3                  No                No                   No           4   \n",
       "4                  No                No                   No           4   \n",
       "\n",
       "   Aggregate rating  Rating color Rating text Votes  \n",
       "0               4.8    Dark Green   Excellent   314  \n",
       "1               4.5    Dark Green   Excellent   591  \n",
       "2               4.4         Green   Very Good   270  \n",
       "3               4.9    Dark Green   Excellent   365  \n",
       "4               4.8    Dark Green   Excellent   229  \n",
       "\n",
       "[5 rows x 21 columns]"
      ]
     },
     "execution_count": 9,
     "metadata": {},
     "output_type": "execute_result"
    }
   ],
   "source": [
    "data.head(5)"
   ]
  },
  {
   "cell_type": "code",
   "execution_count": 10,
   "metadata": {},
   "outputs": [
    {
     "data": {
      "text/plain": [
       "array([162,  30, 216,  14,  37, 184, 214,   1,  94, 148, 215, 166, 189,\n",
       "       191, 208], dtype=int64)"
      ]
     },
     "execution_count": 10,
     "metadata": {},
     "output_type": "execute_result"
    }
   ],
   "source": [
    "data['Country Code'].unique()"
   ]
  },
  {
   "cell_type": "code",
   "execution_count": 11,
   "metadata": {},
   "outputs": [
    {
     "data": {
      "text/plain": [
       "1      8652\n",
       "216     425\n",
       "215      80\n",
       "214      60\n",
       "30       60\n",
       "189      60\n",
       "148      40\n",
       "208      34\n",
       "14       24\n",
       "162      22\n",
       "94       21\n",
       "191      20\n",
       "166      20\n",
       "184      20\n",
       "37        4\n",
       "Name: Country Code, dtype: int64"
      ]
     },
     "execution_count": 11,
     "metadata": {},
     "output_type": "execute_result"
    }
   ],
   "source": [
    "data['Country Code'].value_counts(ascending=False)"
   ]
  },
  {
   "cell_type": "markdown",
   "metadata": {},
   "source": [
    "## Beginning filtering of columns we need"
   ]
  },
  {
   "cell_type": "code",
   "execution_count": 12,
   "metadata": {},
   "outputs": [
    {
     "data": {
      "text/plain": [
       "Index(['Restaurant ID', 'Restaurant Name', 'Country Code', 'City', 'Address',\n",
       "       'Locality', 'Locality Verbose', 'Longitude', 'Latitude', 'Cuisines',\n",
       "       'Average Cost for two', 'Currency', 'Has Table booking',\n",
       "       'Has Online delivery', 'Is delivering now', 'Switch to order menu',\n",
       "       'Price range', 'Aggregate rating', 'Rating color', 'Rating text',\n",
       "       'Votes'],\n",
       "      dtype='object')"
      ]
     },
     "execution_count": 12,
     "metadata": {},
     "output_type": "execute_result"
    }
   ],
   "source": [
    "data.columns"
   ]
  },
  {
   "cell_type": "code",
   "execution_count": 13,
   "metadata": {},
   "outputs": [],
   "source": [
    "# We are creating a list of columns we need\n",
    "want = []"
   ]
  },
  {
   "cell_type": "code",
   "execution_count": 14,
   "metadata": {},
   "outputs": [
    {
     "data": {
      "text/plain": [
       "0            Makati City\n",
       "1            Makati City\n",
       "2       Mandaluyong City\n",
       "3       Mandaluyong City\n",
       "4       Mandaluyong City\n",
       "5       Mandaluyong City\n",
       "6             Pasay City\n",
       "7             Pasay City\n",
       "8             Pasay City\n",
       "9             Pasig City\n",
       "10            Pasig City\n",
       "11            Pasig City\n",
       "12           Quezon City\n",
       "13         San Juan City\n",
       "14         San Juan City\n",
       "15            Santa Rosa\n",
       "16            Santa Rosa\n",
       "17         Tagaytay City\n",
       "18           Taguig City\n",
       "19           Taguig City\n",
       "20           Taguig City\n",
       "21           Taguig City\n",
       "22             Brasí_lia\n",
       "23             Brasí_lia\n",
       "24             Brasí_lia\n",
       "25             Brasí_lia\n",
       "26             Brasí_lia\n",
       "27             Brasí_lia\n",
       "28             Brasí_lia\n",
       "29             Brasí_lia\n",
       "              ...       \n",
       "9512              Ankara\n",
       "9513              Ankara\n",
       "9514              Ankara\n",
       "9515              Ankara\n",
       "9516              Ankara\n",
       "9517              Ankara\n",
       "9518              Ankara\n",
       "9519              Ankara\n",
       "9520              Ankara\n",
       "9521              Ankara\n",
       "9522              Ankara\n",
       "9523              Ankara\n",
       "9524              Ankara\n",
       "9525              Ankara\n",
       "9526              Ankara\n",
       "9527              Ankara\n",
       "9528           ÛÁstanbul\n",
       "9529           ÛÁstanbul\n",
       "9530           ÛÁstanbul\n",
       "9531           ÛÁstanbul\n",
       "9532           ÛÁstanbul\n",
       "9533           ÛÁstanbul\n",
       "9534           ÛÁstanbul\n",
       "9535           ÛÁstanbul\n",
       "9536           ÛÁstanbul\n",
       "9537           ÛÁstanbul\n",
       "9538           ÛÁstanbul\n",
       "9539           ÛÁstanbul\n",
       "9540           ÛÁstanbul\n",
       "9541           ÛÁstanbul\n",
       "Name: City, Length: 9542, dtype: object"
      ]
     },
     "execution_count": 14,
     "metadata": {},
     "output_type": "execute_result"
    }
   ],
   "source": [
    "data['City']"
   ]
  },
  {
   "cell_type": "code",
   "execution_count": 15,
   "metadata": {},
   "outputs": [
    {
     "data": {
      "text/plain": [
       "Index(['Restaurant ID', 'Restaurant Name', 'Country Code', 'City', 'Address',\n",
       "       'Locality', 'Locality Verbose', 'Longitude', 'Latitude', 'Cuisines',\n",
       "       'Average Cost for two', 'Currency', 'Has Table booking',\n",
       "       'Has Online delivery', 'Is delivering now', 'Switch to order menu',\n",
       "       'Price range', 'Aggregate rating', 'Rating color', 'Rating text',\n",
       "       'Votes'],\n",
       "      dtype='object')"
      ]
     },
     "execution_count": 15,
     "metadata": {},
     "output_type": "execute_result"
    }
   ],
   "source": [
    "data.columns"
   ]
  },
  {
   "cell_type": "code",
   "execution_count": 16,
   "metadata": {},
   "outputs": [
    {
     "data": {
      "text/plain": [
       "array(['Century City Mall, Poblacion, Makati City',\n",
       "       'Little Tokyo, Legaspi Village, Makati City',\n",
       "       'Edsa Shangri-La, Ortigas, Mandaluyong City', ..., 'Ko\\x81ôuyolu',\n",
       "       'Kuruí_e\\x81ôme', 'Moda'], dtype=object)"
      ]
     },
     "execution_count": 16,
     "metadata": {},
     "output_type": "execute_result"
    }
   ],
   "source": [
    "data['Locality'].unique()"
   ]
  },
  {
   "cell_type": "code",
   "execution_count": 17,
   "metadata": {},
   "outputs": [
    {
     "data": {
      "text/plain": [
       "Index(['Restaurant ID', 'Restaurant Name', 'Country Code', 'City', 'Address',\n",
       "       'Locality', 'Locality Verbose', 'Longitude', 'Latitude', 'Cuisines',\n",
       "       'Average Cost for two', 'Currency', 'Has Table booking',\n",
       "       'Has Online delivery', 'Is delivering now', 'Switch to order menu',\n",
       "       'Price range', 'Aggregate rating', 'Rating color', 'Rating text',\n",
       "       'Votes'],\n",
       "      dtype='object')"
      ]
     },
     "execution_count": 17,
     "metadata": {},
     "output_type": "execute_result"
    }
   ],
   "source": [
    "data.columns"
   ]
  },
  {
   "cell_type": "code",
   "execution_count": 18,
   "metadata": {},
   "outputs": [
    {
     "data": {
      "text/plain": [
       "array(['Century City Mall, Poblacion, Makati City, Makati City',\n",
       "       'Little Tokyo, Legaspi Village, Makati City, Makati City',\n",
       "       'Edsa Shangri-La, Ortigas, Mandaluyong City, Mandaluyong City',\n",
       "       ..., 'Ko\\x81ôuyolu, ÛÁstanbul', 'Kuruí_e\\x81ôme, ÛÁstanbul',\n",
       "       'Moda, ÛÁstanbul'], dtype=object)"
      ]
     },
     "execution_count": 18,
     "metadata": {},
     "output_type": "execute_result"
    }
   ],
   "source": [
    "data['Locality Verbose'].unique()"
   ]
  },
  {
   "cell_type": "code",
   "execution_count": 19,
   "metadata": {},
   "outputs": [
    {
     "data": {
      "text/plain": [
       "(8111,)"
      ]
     },
     "execution_count": 19,
     "metadata": {},
     "output_type": "execute_result"
    }
   ],
   "source": [
    "data['Longitude'].unique().shape"
   ]
  },
  {
   "cell_type": "code",
   "execution_count": 20,
   "metadata": {},
   "outputs": [
    {
     "data": {
      "text/plain": [
       "(8668,)"
      ]
     },
     "execution_count": 20,
     "metadata": {},
     "output_type": "execute_result"
    }
   ],
   "source": [
    "data['Latitude'].unique().shape"
   ]
  },
  {
   "cell_type": "code",
   "execution_count": 21,
   "metadata": {},
   "outputs": [
    {
     "data": {
      "text/plain": [
       "Index(['Restaurant ID', 'Restaurant Name', 'Country Code', 'City', 'Address',\n",
       "       'Locality', 'Locality Verbose', 'Longitude', 'Latitude', 'Cuisines',\n",
       "       'Average Cost for two', 'Currency', 'Has Table booking',\n",
       "       'Has Online delivery', 'Is delivering now', 'Switch to order menu',\n",
       "       'Price range', 'Aggregate rating', 'Rating color', 'Rating text',\n",
       "       'Votes'],\n",
       "      dtype='object')"
      ]
     },
     "execution_count": 21,
     "metadata": {},
     "output_type": "execute_result"
    }
   ],
   "source": [
    "data.columns"
   ]
  },
  {
   "cell_type": "markdown",
   "metadata": {},
   "source": [
    "## Found cuisines - this will be added later"
   ]
  },
  {
   "cell_type": "code",
   "execution_count": 22,
   "metadata": {},
   "outputs": [
    {
     "data": {
      "text/plain": [
       "array(['French, Japanese, Desserts', 'Japanese',\n",
       "       'Seafood, Asian, Filipino, Indian', ..., 'Burger, Izgara',\n",
       "       'World Cuisine, Patisserie, Cafe', 'Italian, World Cuisine'],\n",
       "      dtype=object)"
      ]
     },
     "execution_count": 22,
     "metadata": {},
     "output_type": "execute_result"
    }
   ],
   "source": [
    "data['Cuisines'].unique()"
   ]
  },
  {
   "cell_type": "code",
   "execution_count": 23,
   "metadata": {},
   "outputs": [
    {
     "data": {
      "text/plain": [
       "0                       French, Japanese, Desserts\n",
       "1                                         Japanese\n",
       "2                 Seafood, Asian, Filipino, Indian\n",
       "3                                  Japanese, Sushi\n",
       "4                                 Japanese, Korean\n",
       "5                                          Chinese\n",
       "6                                  Asian, European\n",
       "7               Seafood, Filipino, Asian, European\n",
       "8                          European, Asian, Indian\n",
       "9                                         Filipino\n",
       "10                               Filipino, Mexican\n",
       "11                   American, Ice Cream, Desserts\n",
       "12                               Filipino, Mexican\n",
       "13                                        Filipino\n",
       "14                                          Korean\n",
       "15               Cafe, American, Italian, Filipino\n",
       "16                                  Italian, Pizza\n",
       "17                                        Filipino\n",
       "18                          Cafe, Korean, Desserts\n",
       "19                 Cafe, Bakery, American, Italian\n",
       "20      Seafood, American, Mediterranean, Japanese\n",
       "21               American, Asian, Italian, Seafood\n",
       "22                               Fast Food, French\n",
       "23                                            Cafe\n",
       "24                                          Bakery\n",
       "25                                       Brazilian\n",
       "26                                           Pizza\n",
       "27                                        Japanese\n",
       "28                                         Arabian\n",
       "29                                        Japanese\n",
       "                           ...                    \n",
       "9512                    Patisserie, Coffee and Tea\n",
       "9513                                         Kebab\n",
       "9514                                 Kebab, Izgara\n",
       "9515                                 World Cuisine\n",
       "9516               World Cuisine, Mexican, Italian\n",
       "9517                                         Steak\n",
       "9518                          Kebab, Turkish Pizza\n",
       "9519                                          Cafe\n",
       "9520                          Kebab, Turkish Pizza\n",
       "9521                  Kebab, Turkish Pizza, Dí_ner\n",
       "9522                                          Cafe\n",
       "9523                          Kebab, Turkish Pizza\n",
       "9524                                 Turkish Pizza\n",
       "9525                Kebab, Desserts, Turkish Pizza\n",
       "9526                Kebab, Desserts, Turkish Pizza\n",
       "9527                                         Pizza\n",
       "9528                                      Desserts\n",
       "9529                                          Cafe\n",
       "9530                     Restaurant Cafe, Desserts\n",
       "9531                                      Bar Food\n",
       "9532            Restaurant Cafe, Turkish, Desserts\n",
       "9533                               Restaurant Cafe\n",
       "9534                                          Cafe\n",
       "9535                              Desserts, Bí_rek\n",
       "9536                                Burger, Izgara\n",
       "9537                                       Turkish\n",
       "9538               World Cuisine, Patisserie, Cafe\n",
       "9539                        Italian, World Cuisine\n",
       "9540                               Restaurant Cafe\n",
       "9541                                          Cafe\n",
       "Name: Cuisines, Length: 9542, dtype: object"
      ]
     },
     "execution_count": 23,
     "metadata": {},
     "output_type": "execute_result"
    }
   ],
   "source": [
    "data['Cuisines']"
   ]
  },
  {
   "cell_type": "code",
   "execution_count": 24,
   "metadata": {},
   "outputs": [
    {
     "data": {
      "text/plain": [
       "Index(['Restaurant ID', 'Restaurant Name', 'Country Code', 'City', 'Address',\n",
       "       'Locality', 'Locality Verbose', 'Longitude', 'Latitude', 'Cuisines',\n",
       "       'Average Cost for two', 'Currency', 'Has Table booking',\n",
       "       'Has Online delivery', 'Is delivering now', 'Switch to order menu',\n",
       "       'Price range', 'Aggregate rating', 'Rating color', 'Rating text',\n",
       "       'Votes'],\n",
       "      dtype='object')"
      ]
     },
     "execution_count": 24,
     "metadata": {},
     "output_type": "execute_result"
    }
   ],
   "source": [
    "data.columns"
   ]
  },
  {
   "cell_type": "markdown",
   "metadata": {},
   "source": [
    "## Filtering average cost for two and currency to get rupee values\n",
    "## Now, we will convert the cost for two into us dollars for easy viewing"
   ]
  },
  {
   "cell_type": "code",
   "execution_count": 25,
   "metadata": {},
   "outputs": [
    {
     "data": {
      "text/plain": [
       "0       1100\n",
       "1       1200\n",
       "2       4000\n",
       "3       1500\n",
       "4       1500\n",
       "5       1000\n",
       "6       2000\n",
       "7       2000\n",
       "8       6000\n",
       "9       1100\n",
       "10       800\n",
       "11       900\n",
       "12       800\n",
       "13      1000\n",
       "14       700\n",
       "15       800\n",
       "16       850\n",
       "17      1200\n",
       "18       600\n",
       "19      1500\n",
       "20      3000\n",
       "21      1800\n",
       "22        55\n",
       "23        30\n",
       "24        45\n",
       "25        60\n",
       "26        50\n",
       "27        80\n",
       "28        90\n",
       "29       200\n",
       "        ... \n",
       "9512      50\n",
       "9513     100\n",
       "9514      60\n",
       "9515      80\n",
       "9516     150\n",
       "9517     400\n",
       "9518      60\n",
       "9519      70\n",
       "9520      40\n",
       "9521      50\n",
       "9522      80\n",
       "9523     100\n",
       "9524      50\n",
       "9525      70\n",
       "9526      70\n",
       "9527      40\n",
       "9528      50\n",
       "9529      30\n",
       "9530      80\n",
       "9531     130\n",
       "9532      75\n",
       "9533      80\n",
       "9534      35\n",
       "9535      40\n",
       "9536      90\n",
       "9537      80\n",
       "9538     105\n",
       "9539     170\n",
       "9540     120\n",
       "9541      55\n",
       "Name: Average Cost for two, Length: 9542, dtype: int64"
      ]
     },
     "execution_count": 25,
     "metadata": {},
     "output_type": "execute_result"
    }
   ],
   "source": [
    "data['Average Cost for two']"
   ]
  },
  {
   "cell_type": "code",
   "execution_count": 26,
   "metadata": {},
   "outputs": [
    {
     "data": {
      "text/plain": [
       "0         Botswana Pula(P)\n",
       "1         Botswana Pula(P)\n",
       "2         Botswana Pula(P)\n",
       "3         Botswana Pula(P)\n",
       "4         Botswana Pula(P)\n",
       "5         Botswana Pula(P)\n",
       "6         Botswana Pula(P)\n",
       "7         Botswana Pula(P)\n",
       "8         Botswana Pula(P)\n",
       "9         Botswana Pula(P)\n",
       "10        Botswana Pula(P)\n",
       "11        Botswana Pula(P)\n",
       "12        Botswana Pula(P)\n",
       "13        Botswana Pula(P)\n",
       "14        Botswana Pula(P)\n",
       "15        Botswana Pula(P)\n",
       "16        Botswana Pula(P)\n",
       "17        Botswana Pula(P)\n",
       "18        Botswana Pula(P)\n",
       "19        Botswana Pula(P)\n",
       "20        Botswana Pula(P)\n",
       "21        Botswana Pula(P)\n",
       "22      Brazilian Real(R$)\n",
       "23      Brazilian Real(R$)\n",
       "24      Brazilian Real(R$)\n",
       "25      Brazilian Real(R$)\n",
       "26      Brazilian Real(R$)\n",
       "27      Brazilian Real(R$)\n",
       "28      Brazilian Real(R$)\n",
       "29      Brazilian Real(R$)\n",
       "               ...        \n",
       "9512      Turkish Lira(TL)\n",
       "9513      Turkish Lira(TL)\n",
       "9514      Turkish Lira(TL)\n",
       "9515      Turkish Lira(TL)\n",
       "9516      Turkish Lira(TL)\n",
       "9517      Turkish Lira(TL)\n",
       "9518      Turkish Lira(TL)\n",
       "9519      Turkish Lira(TL)\n",
       "9520      Turkish Lira(TL)\n",
       "9521      Turkish Lira(TL)\n",
       "9522      Turkish Lira(TL)\n",
       "9523      Turkish Lira(TL)\n",
       "9524      Turkish Lira(TL)\n",
       "9525      Turkish Lira(TL)\n",
       "9526      Turkish Lira(TL)\n",
       "9527      Turkish Lira(TL)\n",
       "9528      Turkish Lira(TL)\n",
       "9529      Turkish Lira(TL)\n",
       "9530      Turkish Lira(TL)\n",
       "9531      Turkish Lira(TL)\n",
       "9532      Turkish Lira(TL)\n",
       "9533      Turkish Lira(TL)\n",
       "9534      Turkish Lira(TL)\n",
       "9535      Turkish Lira(TL)\n",
       "9536      Turkish Lira(TL)\n",
       "9537      Turkish Lira(TL)\n",
       "9538      Turkish Lira(TL)\n",
       "9539      Turkish Lira(TL)\n",
       "9540      Turkish Lira(TL)\n",
       "9541      Turkish Lira(TL)\n",
       "Name: Currency, Length: 9542, dtype: object"
      ]
     },
     "execution_count": 26,
     "metadata": {},
     "output_type": "execute_result"
    }
   ],
   "source": [
    "data['Currency']"
   ]
  },
  {
   "cell_type": "code",
   "execution_count": 27,
   "metadata": {},
   "outputs": [],
   "source": [
    "# Checking for any non rupee values\n",
    "hasNonRupee = False\n",
    "for elem in data['Currency']:\n",
    "    if not (elem == 'Indian Rupees(Rs.)'):\n",
    "        hasNonRupee = True"
   ]
  },
  {
   "cell_type": "code",
   "execution_count": 28,
   "metadata": {},
   "outputs": [
    {
     "data": {
      "text/plain": [
       "True"
      ]
     },
     "execution_count": 28,
     "metadata": {},
     "output_type": "execute_result"
    }
   ],
   "source": [
    "hasNonRupee"
   ]
  },
  {
   "cell_type": "code",
   "execution_count": 29,
   "metadata": {},
   "outputs": [],
   "source": [
    "data = data[data['Currency'] == 'Indian Rupees(Rs.)']"
   ]
  },
  {
   "cell_type": "code",
   "execution_count": 30,
   "metadata": {},
   "outputs": [],
   "source": [
    "# Checking for any non rupee values\n",
    "hasNonRupee = False\n",
    "for elem in data['Currency']:\n",
    "    if not (elem == 'Indian Rupees(Rs.)'):\n",
    "        hasNonRupee = True"
   ]
  },
  {
   "cell_type": "code",
   "execution_count": 31,
   "metadata": {},
   "outputs": [
    {
     "data": {
      "text/plain": [
       "False"
      ]
     },
     "execution_count": 31,
     "metadata": {},
     "output_type": "execute_result"
    }
   ],
   "source": [
    "hasNonRupee"
   ]
  },
  {
   "cell_type": "code",
   "execution_count": 32,
   "metadata": {},
   "outputs": [],
   "source": [
    "want.append('Cuisines')"
   ]
  },
  {
   "cell_type": "code",
   "execution_count": 33,
   "metadata": {},
   "outputs": [
    {
     "data": {
      "text/plain": [
       "['Cuisines']"
      ]
     },
     "execution_count": 33,
     "metadata": {},
     "output_type": "execute_result"
    }
   ],
   "source": [
    "want"
   ]
  },
  {
   "cell_type": "code",
   "execution_count": 34,
   "metadata": {},
   "outputs": [],
   "source": [
    "dolToRup = 69.8\n",
    "data['Average Cost for two'] = data['Average Cost for two']/dolToRup"
   ]
  },
  {
   "cell_type": "code",
   "execution_count": 35,
   "metadata": {},
   "outputs": [],
   "source": [
    "want.append('Average Cost for two')"
   ]
  },
  {
   "cell_type": "code",
   "execution_count": 36,
   "metadata": {},
   "outputs": [
    {
     "data": {
      "text/plain": [
       "['Cuisines', 'Average Cost for two']"
      ]
     },
     "execution_count": 36,
     "metadata": {},
     "output_type": "execute_result"
    }
   ],
   "source": [
    "want"
   ]
  },
  {
   "cell_type": "code",
   "execution_count": 37,
   "metadata": {},
   "outputs": [
    {
     "data": {
      "text/plain": [
       "Index(['Restaurant ID', 'Restaurant Name', 'Country Code', 'City', 'Address',\n",
       "       'Locality', 'Locality Verbose', 'Longitude', 'Latitude', 'Cuisines',\n",
       "       'Average Cost for two', 'Currency', 'Has Table booking',\n",
       "       'Has Online delivery', 'Is delivering now', 'Switch to order menu',\n",
       "       'Price range', 'Aggregate rating', 'Rating color', 'Rating text',\n",
       "       'Votes'],\n",
       "      dtype='object')"
      ]
     },
     "execution_count": 37,
     "metadata": {},
     "output_type": "execute_result"
    }
   ],
   "source": [
    "data.columns"
   ]
  },
  {
   "cell_type": "markdown",
   "metadata": {},
   "source": [
    "## Viewing other columns and choosing"
   ]
  },
  {
   "cell_type": "code",
   "execution_count": 38,
   "metadata": {},
   "outputs": [
    {
     "data": {
      "text/plain": [
       "No     6229\n",
       "Yes    2423\n",
       "Name: Has Online delivery, dtype: int64"
      ]
     },
     "execution_count": 38,
     "metadata": {},
     "output_type": "execute_result"
    }
   ],
   "source": [
    "data['Has Online delivery'].value_counts()"
   ]
  },
  {
   "cell_type": "code",
   "execution_count": 39,
   "metadata": {},
   "outputs": [
    {
     "data": {
      "text/plain": [
       "No     8618\n",
       "Yes      34\n",
       "Name: Is delivering now, dtype: int64"
      ]
     },
     "execution_count": 39,
     "metadata": {},
     "output_type": "execute_result"
    }
   ],
   "source": [
    "data['Is delivering now'].value_counts()"
   ]
  },
  {
   "cell_type": "code",
   "execution_count": 40,
   "metadata": {},
   "outputs": [
    {
     "data": {
      "text/plain": [
       "No     7541\n",
       "Yes    1111\n",
       "Name: Has Table booking, dtype: int64"
      ]
     },
     "execution_count": 40,
     "metadata": {},
     "output_type": "execute_result"
    }
   ],
   "source": [
    "data['Has Table booking'].value_counts()"
   ]
  },
  {
   "cell_type": "code",
   "execution_count": 41,
   "metadata": {},
   "outputs": [
    {
     "data": {
      "text/plain": [
       "No    8652\n",
       "Name: Switch to order menu, dtype: int64"
      ]
     },
     "execution_count": 41,
     "metadata": {},
     "output_type": "execute_result"
    }
   ],
   "source": [
    "data['Switch to order menu'].value_counts()"
   ]
  },
  {
   "cell_type": "code",
   "execution_count": 42,
   "metadata": {},
   "outputs": [
    {
     "data": {
      "text/plain": [
       "1    4295\n",
       "2    2858\n",
       "3    1111\n",
       "4     388\n",
       "Name: Price range, dtype: int64"
      ]
     },
     "execution_count": 42,
     "metadata": {},
     "output_type": "execute_result"
    }
   ],
   "source": [
    "data['Price range'].value_counts()"
   ]
  },
  {
   "cell_type": "code",
   "execution_count": 43,
   "metadata": {},
   "outputs": [
    {
     "data": {
      "text/plain": [
       "615     3\n",
       "616     2\n",
       "617     2\n",
       "618     2\n",
       "619     3\n",
       "620     4\n",
       "621     4\n",
       "622     4\n",
       "623     3\n",
       "624     4\n",
       "625     1\n",
       "626     2\n",
       "627     3\n",
       "628     1\n",
       "629     4\n",
       "630     1\n",
       "631     3\n",
       "632     2\n",
       "633     3\n",
       "634     2\n",
       "635     3\n",
       "636     4\n",
       "637     1\n",
       "638     3\n",
       "639     3\n",
       "640     2\n",
       "641     3\n",
       "642     3\n",
       "643     3\n",
       "644     2\n",
       "       ..\n",
       "9237    2\n",
       "9238    3\n",
       "9239    2\n",
       "9240    3\n",
       "9241    3\n",
       "9242    4\n",
       "9243    4\n",
       "9244    3\n",
       "9245    1\n",
       "9246    3\n",
       "9247    2\n",
       "9248    2\n",
       "9249    1\n",
       "9250    3\n",
       "9251    4\n",
       "9252    1\n",
       "9253    4\n",
       "9254    3\n",
       "9255    2\n",
       "9256    2\n",
       "9257    2\n",
       "9258    2\n",
       "9259    2\n",
       "9260    2\n",
       "9261    2\n",
       "9262    2\n",
       "9263    2\n",
       "9264    2\n",
       "9265    4\n",
       "9266    3\n",
       "Name: Price range, Length: 8652, dtype: int64"
      ]
     },
     "execution_count": 43,
     "metadata": {},
     "output_type": "execute_result"
    }
   ],
   "source": [
    "data['Price range']"
   ]
  },
  {
   "cell_type": "code",
   "execution_count": 44,
   "metadata": {},
   "outputs": [],
   "source": [
    "want.append('Has Table booking')\n",
    "want.append('Has Online delivery')\n",
    "want.append('Price range')"
   ]
  },
  {
   "cell_type": "code",
   "execution_count": 45,
   "metadata": {},
   "outputs": [
    {
     "data": {
      "text/plain": [
       "['Cuisines',\n",
       " 'Average Cost for two',\n",
       " 'Has Table booking',\n",
       " 'Has Online delivery',\n",
       " 'Price range']"
      ]
     },
     "execution_count": 45,
     "metadata": {},
     "output_type": "execute_result"
    }
   ],
   "source": [
    "want"
   ]
  },
  {
   "cell_type": "code",
   "execution_count": 46,
   "metadata": {},
   "outputs": [
    {
     "data": {
      "text/plain": [
       "Index(['Restaurant ID', 'Restaurant Name', 'Country Code', 'City', 'Address',\n",
       "       'Locality', 'Locality Verbose', 'Longitude', 'Latitude', 'Cuisines',\n",
       "       'Average Cost for two', 'Currency', 'Has Table booking',\n",
       "       'Has Online delivery', 'Is delivering now', 'Switch to order menu',\n",
       "       'Price range', 'Aggregate rating', 'Rating color', 'Rating text',\n",
       "       'Votes'],\n",
       "      dtype='object')"
      ]
     },
     "execution_count": 46,
     "metadata": {},
     "output_type": "execute_result"
    }
   ],
   "source": [
    "data.columns"
   ]
  },
  {
   "cell_type": "markdown",
   "metadata": {},
   "source": [
    "## Getting possible Y values for use in other program"
   ]
  },
  {
   "cell_type": "code",
   "execution_count": 47,
   "metadata": {},
   "outputs": [
    {
     "data": {
      "text/plain": [
       "615     3.9\n",
       "616     3.5\n",
       "617     3.6\n",
       "618     4.0\n",
       "619     4.2\n",
       "620     4.0\n",
       "621     4.3\n",
       "622     4.0\n",
       "623     3.6\n",
       "624     3.8\n",
       "625     3.9\n",
       "626     4.1\n",
       "627     3.4\n",
       "628     4.9\n",
       "629     3.8\n",
       "630     3.9\n",
       "631     3.7\n",
       "632     4.4\n",
       "633     4.2\n",
       "634     4.1\n",
       "635     4.2\n",
       "636     3.7\n",
       "637     4.5\n",
       "638     4.1\n",
       "639     4.3\n",
       "640     4.4\n",
       "641     4.4\n",
       "642     3.8\n",
       "643     3.6\n",
       "644     4.6\n",
       "       ... \n",
       "9237    3.4\n",
       "9238    3.5\n",
       "9239    3.4\n",
       "9240    3.6\n",
       "9241    3.3\n",
       "9242    3.3\n",
       "9243    3.5\n",
       "9244    3.2\n",
       "9245    3.5\n",
       "9246    3.5\n",
       "9247    4.6\n",
       "9248    4.3\n",
       "9249    4.2\n",
       "9250    4.4\n",
       "9251    4.1\n",
       "9252    3.7\n",
       "9253    4.9\n",
       "9254    3.8\n",
       "9255    3.8\n",
       "9256    3.6\n",
       "9257    3.5\n",
       "9258    3.6\n",
       "9259    3.7\n",
       "9260    4.1\n",
       "9261    4.0\n",
       "9262    3.6\n",
       "9263    3.7\n",
       "9264    4.3\n",
       "9265    3.8\n",
       "9266    4.4\n",
       "Name: Aggregate rating, Length: 8652, dtype: float64"
      ]
     },
     "execution_count": 47,
     "metadata": {},
     "output_type": "execute_result"
    }
   ],
   "source": [
    "# Now, we need to get all the ys we need - rating values\n",
    "data['Aggregate rating']"
   ]
  },
  {
   "cell_type": "code",
   "execution_count": 48,
   "metadata": {},
   "outputs": [
    {
     "data": {
      "text/plain": [
       "615         Yellow\n",
       "616         Yellow\n",
       "617         Yellow\n",
       "618          Green\n",
       "619          Green\n",
       "620          Green\n",
       "621          Green\n",
       "622          Green\n",
       "623         Yellow\n",
       "624         Yellow\n",
       "625         Yellow\n",
       "626          Green\n",
       "627         Orange\n",
       "628     Dark Green\n",
       "629         Yellow\n",
       "630         Yellow\n",
       "631         Yellow\n",
       "632          Green\n",
       "633          Green\n",
       "634          Green\n",
       "635          Green\n",
       "636         Yellow\n",
       "637     Dark Green\n",
       "638          Green\n",
       "639          Green\n",
       "640          Green\n",
       "641          Green\n",
       "642         Yellow\n",
       "643         Yellow\n",
       "644     Dark Green\n",
       "           ...    \n",
       "9237        Orange\n",
       "9238        Yellow\n",
       "9239        Orange\n",
       "9240        Yellow\n",
       "9241        Orange\n",
       "9242        Orange\n",
       "9243        Yellow\n",
       "9244        Orange\n",
       "9245        Yellow\n",
       "9246        Yellow\n",
       "9247    Dark Green\n",
       "9248         Green\n",
       "9249         Green\n",
       "9250         Green\n",
       "9251         Green\n",
       "9252        Yellow\n",
       "9253    Dark Green\n",
       "9254        Yellow\n",
       "9255        Yellow\n",
       "9256        Yellow\n",
       "9257        Yellow\n",
       "9258        Yellow\n",
       "9259        Yellow\n",
       "9260         Green\n",
       "9261         Green\n",
       "9262        Yellow\n",
       "9263        Yellow\n",
       "9264         Green\n",
       "9265        Yellow\n",
       "9266         Green\n",
       "Name: Rating color, Length: 8652, dtype: object"
      ]
     },
     "execution_count": 48,
     "metadata": {},
     "output_type": "execute_result"
    }
   ],
   "source": [
    "data['Rating color']"
   ]
  },
  {
   "cell_type": "code",
   "execution_count": 49,
   "metadata": {},
   "outputs": [
    {
     "data": {
      "text/plain": [
       "Index(['Restaurant ID', 'Restaurant Name', 'Country Code', 'City', 'Address',\n",
       "       'Locality', 'Locality Verbose', 'Longitude', 'Latitude', 'Cuisines',\n",
       "       'Average Cost for two', 'Currency', 'Has Table booking',\n",
       "       'Has Online delivery', 'Is delivering now', 'Switch to order menu',\n",
       "       'Price range', 'Aggregate rating', 'Rating color', 'Rating text',\n",
       "       'Votes'],\n",
       "      dtype='object')"
      ]
     },
     "execution_count": 49,
     "metadata": {},
     "output_type": "execute_result"
    }
   ],
   "source": [
    "data.columns"
   ]
  },
  {
   "cell_type": "code",
   "execution_count": 50,
   "metadata": {},
   "outputs": [],
   "source": [
    "want.append('Aggregate rating')"
   ]
  },
  {
   "cell_type": "code",
   "execution_count": 51,
   "metadata": {},
   "outputs": [
    {
     "data": {
      "text/plain": [
       "615          Good\n",
       "616          Good\n",
       "617          Good\n",
       "618     Very Good\n",
       "619     Very Good\n",
       "620     Very Good\n",
       "621     Very Good\n",
       "622     Very Good\n",
       "623          Good\n",
       "624          Good\n",
       "625          Good\n",
       "626     Very Good\n",
       "627       Average\n",
       "628     Excellent\n",
       "629          Good\n",
       "630          Good\n",
       "631          Good\n",
       "632     Very Good\n",
       "633     Very Good\n",
       "634     Very Good\n",
       "635     Very Good\n",
       "636          Good\n",
       "637     Excellent\n",
       "638     Very Good\n",
       "639     Very Good\n",
       "640     Very Good\n",
       "641     Very Good\n",
       "642          Good\n",
       "643          Good\n",
       "644     Excellent\n",
       "          ...    \n",
       "9237      Average\n",
       "9238         Good\n",
       "9239      Average\n",
       "9240         Good\n",
       "9241      Average\n",
       "9242      Average\n",
       "9243         Good\n",
       "9244      Average\n",
       "9245         Good\n",
       "9246         Good\n",
       "9247    Excellent\n",
       "9248    Very Good\n",
       "9249    Very Good\n",
       "9250    Very Good\n",
       "9251    Very Good\n",
       "9252         Good\n",
       "9253    Excellent\n",
       "9254         Good\n",
       "9255         Good\n",
       "9256         Good\n",
       "9257         Good\n",
       "9258         Good\n",
       "9259         Good\n",
       "9260    Very Good\n",
       "9261    Very Good\n",
       "9262         Good\n",
       "9263         Good\n",
       "9264    Very Good\n",
       "9265         Good\n",
       "9266    Very Good\n",
       "Name: Rating text, Length: 8652, dtype: object"
      ]
     },
     "execution_count": 51,
     "metadata": {},
     "output_type": "execute_result"
    }
   ],
   "source": [
    "data['Rating text']"
   ]
  },
  {
   "cell_type": "code",
   "execution_count": 52,
   "metadata": {},
   "outputs": [
    {
     "data": {
      "text/plain": [
       "Index(['Restaurant ID', 'Restaurant Name', 'Country Code', 'City', 'Address',\n",
       "       'Locality', 'Locality Verbose', 'Longitude', 'Latitude', 'Cuisines',\n",
       "       'Average Cost for two', 'Currency', 'Has Table booking',\n",
       "       'Has Online delivery', 'Is delivering now', 'Switch to order menu',\n",
       "       'Price range', 'Aggregate rating', 'Rating color', 'Rating text',\n",
       "       'Votes'],\n",
       "      dtype='object')"
      ]
     },
     "execution_count": 52,
     "metadata": {},
     "output_type": "execute_result"
    }
   ],
   "source": [
    "data.columns"
   ]
  },
  {
   "cell_type": "code",
   "execution_count": 53,
   "metadata": {},
   "outputs": [
    {
     "data": {
      "text/plain": [
       "615      140\n",
       "616       71\n",
       "617       94\n",
       "618       87\n",
       "619      177\n",
       "620       45\n",
       "621      133\n",
       "622       41\n",
       "623       59\n",
       "624       46\n",
       "625      103\n",
       "626      121\n",
       "627       70\n",
       "628       77\n",
       "629       57\n",
       "630       98\n",
       "631      175\n",
       "632      134\n",
       "633      166\n",
       "634      168\n",
       "635     1582\n",
       "636     1315\n",
       "637      217\n",
       "638      769\n",
       "639      731\n",
       "640      113\n",
       "641      944\n",
       "642       63\n",
       "643      375\n",
       "644      166\n",
       "        ... \n",
       "9237      85\n",
       "9238     172\n",
       "9239      96\n",
       "9240      63\n",
       "9241      34\n",
       "9242      67\n",
       "9243      83\n",
       "9244      26\n",
       "9245     109\n",
       "9246      57\n",
       "9247     289\n",
       "9248     230\n",
       "9249     270\n",
       "9250      73\n",
       "9251     125\n",
       "9252     240\n",
       "9253     345\n",
       "9254      27\n",
       "9255     175\n",
       "9256     154\n",
       "9257     124\n",
       "9258      84\n",
       "9259      57\n",
       "9260      75\n",
       "9261     169\n",
       "9262     193\n",
       "9263      85\n",
       "9264     172\n",
       "9265      74\n",
       "9266     316\n",
       "Name: Votes, Length: 8652, dtype: int64"
      ]
     },
     "execution_count": 53,
     "metadata": {},
     "output_type": "execute_result"
    }
   ],
   "source": [
    "data['Votes']"
   ]
  },
  {
   "cell_type": "markdown",
   "metadata": {},
   "source": [
    "## Processing cuisines\n",
    "### Changing to number of cuisines available"
   ]
  },
  {
   "cell_type": "code",
   "execution_count": 54,
   "metadata": {},
   "outputs": [
    {
     "name": "stdout",
     "output_type": "stream",
     "text": [
      "1392\n"
     ]
    }
   ],
   "source": [
    "print(data['Cuisines'].nunique())"
   ]
  },
  {
   "cell_type": "code",
   "execution_count": 55,
   "metadata": {},
   "outputs": [
    {
     "name": "stdout",
     "output_type": "stream",
     "text": [
      "North Indian                                                         936\n",
      "North Indian, Chinese                                                511\n",
      "Fast Food                                                            348\n",
      "Chinese                                                              340\n",
      "North Indian, Mughlai                                                334\n",
      "Cafe                                                                 279\n",
      "Bakery                                                               216\n",
      "North Indian, Mughlai, Chinese                                       197\n",
      "Bakery, Desserts                                                     170\n",
      "Street Food                                                          149\n",
      "Pizza, Fast Food                                                     130\n",
      "Chinese, Fast Food                                                   118\n",
      "Mithai, Street Food                                                  116\n",
      "South Indian                                                         111\n",
      "Bakery, Fast Food                                                    108\n",
      "Chinese, North Indian                                                105\n",
      "Mughlai                                                              103\n",
      "Ice Cream, Desserts                                                   82\n",
      "North Indian, Fast Food                                               74\n",
      "Ice Cream                                                             74\n",
      "Mithai                                                                71\n",
      "North Indian, Chinese, Mughlai                                        70\n",
      "North Indian, Chinese, Fast Food                                      68\n",
      "North Indian, Chinese, Continental                                    65\n",
      "Bakery, Desserts, Fast Food                                           63\n",
      "American, Fast Food, Salad, Healthy Food                              62\n",
      "Mughlai, North Indian                                                 60\n",
      "Biryani                                                               54\n",
      "Beverages                                                             54\n",
      "Fast Food, Burger                                                     53\n",
      "                                                                    ... \n",
      "Japanese, American, North Indian, Fast Food                            1\n",
      "North Indian, Kashmiri, Chinese, Thai, Korean                          1\n",
      "Chinese, North Indian, Continental, Mexican                            1\n",
      "Chinese, Thai, North Indian, South Indian                              1\n",
      "North Indian, Italian, Chinese, American                               1\n",
      "North Indian, Chinese, South Indian, Bakery                            1\n",
      "North Indian, Rajasthani, Gujarati                                     1\n",
      "Cafe, Desserts, Healthy Food, Juices                                   1\n",
      "Continental, Chinese, Biryani, North Indian                            1\n",
      "Continental, Mexican                                                   1\n",
      "North Indian, Finger Food, Italian, Chinese                            1\n",
      "South Indian, North Indian, Street Food, Chinese, Mithai               1\n",
      "Cafe, Italian, Mexican, Chinese, North Indian                          1\n",
      "Mughlai, North Indian, South Indian                                    1\n",
      "Chinese, North Indian, Cafe                                            1\n",
      "Greek, Lebanese                                                        1\n",
      "Fast Food, Desserts, Beverages                                         1\n",
      "South Indian, North Indian, Chinese, Continental                       1\n",
      "Italian, Seafood, Mediterranean, Desserts, Cafe                        1\n",
      "Charcoal Grill, Italian, North Indian, European, Indonesian, Thai      1\n",
      "Continental, Mexican, North Indian, Chinese                            1\n",
      "North Indian, South Indian, Bakery, Beverages                          1\n",
      "North Indian, Chinese, Continental, Italian, Burger                    1\n",
      "Japanese, Tibetan, Vietnamese, Korean                                  1\n",
      "Italian, European, Cafe                                                1\n",
      "Mithai, Beverages                                                      1\n",
      "Lucknowi, Mughlai, North Indian                                        1\n",
      "South Indian, Seafood, Kerala                                          1\n",
      "Continental, American, Fast Food                                       1\n",
      "American, Continental, Italian, North Indian, Asian                    1\n",
      "Name: Cuisines, Length: 1392, dtype: int64\n"
     ]
    }
   ],
   "source": [
    "print(data['Cuisines'].value_counts())"
   ]
  },
  {
   "cell_type": "code",
   "execution_count": 56,
   "metadata": {},
   "outputs": [],
   "source": [
    "data.reset_index(drop=True, inplace=True)\n",
    "\n",
    "for i in range(len(data['Cuisines'])):\n",
    "    curr = data['Cuisines'][i]\n",
    "    curr = curr.split()\n",
    "    curr = len(curr)\n",
    "    data['Cuisines'][i] = curr  "
   ]
  },
  {
   "cell_type": "code",
   "execution_count": 57,
   "metadata": {},
   "outputs": [
    {
     "name": "stdout",
     "output_type": "stream",
     "text": [
      "3     2397\n",
      "2     2338\n",
      "1     1395\n",
      "4     1302\n",
      "5      649\n",
      "6      355\n",
      "7      121\n",
      "8       39\n",
      "11      18\n",
      "9       18\n",
      "10      12\n",
      "12       8\n",
      "Name: Cuisines, dtype: int64\n"
     ]
    }
   ],
   "source": [
    "print(data['Cuisines'].value_counts())"
   ]
  },
  {
   "cell_type": "markdown",
   "metadata": {},
   "source": [
    "# Taking care of rating 0 values"
   ]
  },
  {
   "cell_type": "code",
   "execution_count": 58,
   "metadata": {},
   "outputs": [
    {
     "data": {
      "text/html": [
       "<div>\n",
       "<style scoped>\n",
       "    .dataframe tbody tr th:only-of-type {\n",
       "        vertical-align: middle;\n",
       "    }\n",
       "\n",
       "    .dataframe tbody tr th {\n",
       "        vertical-align: top;\n",
       "    }\n",
       "\n",
       "    .dataframe thead th {\n",
       "        text-align: right;\n",
       "    }\n",
       "</style>\n",
       "<table border=\"1\" class=\"dataframe\">\n",
       "  <thead>\n",
       "    <tr style=\"text-align: right;\">\n",
       "      <th></th>\n",
       "      <th>Restaurant ID</th>\n",
       "      <th>Restaurant Name</th>\n",
       "      <th>Country Code</th>\n",
       "      <th>City</th>\n",
       "      <th>Address</th>\n",
       "      <th>Locality</th>\n",
       "      <th>Locality Verbose</th>\n",
       "      <th>Longitude</th>\n",
       "      <th>Latitude</th>\n",
       "      <th>Cuisines</th>\n",
       "      <th>...</th>\n",
       "      <th>Currency</th>\n",
       "      <th>Has Table booking</th>\n",
       "      <th>Has Online delivery</th>\n",
       "      <th>Is delivering now</th>\n",
       "      <th>Switch to order menu</th>\n",
       "      <th>Price range</th>\n",
       "      <th>Aggregate rating</th>\n",
       "      <th>Rating color</th>\n",
       "      <th>Rating text</th>\n",
       "      <th>Votes</th>\n",
       "    </tr>\n",
       "  </thead>\n",
       "  <tbody>\n",
       "    <tr>\n",
       "      <th>0</th>\n",
       "      <td>3400025</td>\n",
       "      <td>Jahanpanah</td>\n",
       "      <td>1</td>\n",
       "      <td>Agra</td>\n",
       "      <td>E 23, Shopping Arcade, Sadar Bazaar, Agra Cant...</td>\n",
       "      <td>Agra Cantt</td>\n",
       "      <td>Agra Cantt, Agra</td>\n",
       "      <td>78.011544</td>\n",
       "      <td>27.161661</td>\n",
       "      <td>3</td>\n",
       "      <td>...</td>\n",
       "      <td>Indian Rupees(Rs.)</td>\n",
       "      <td>No</td>\n",
       "      <td>No</td>\n",
       "      <td>No</td>\n",
       "      <td>No</td>\n",
       "      <td>3</td>\n",
       "      <td>3.9</td>\n",
       "      <td>Yellow</td>\n",
       "      <td>Good</td>\n",
       "      <td>140</td>\n",
       "    </tr>\n",
       "    <tr>\n",
       "      <th>1</th>\n",
       "      <td>3400341</td>\n",
       "      <td>Rangrezz Restaurant</td>\n",
       "      <td>1</td>\n",
       "      <td>Agra</td>\n",
       "      <td>E-20, Shopping Arcade, Sadar Bazaar, Agra Cant...</td>\n",
       "      <td>Agra Cantt</td>\n",
       "      <td>Agra Cantt, Agra</td>\n",
       "      <td>0.000000</td>\n",
       "      <td>0.000000</td>\n",
       "      <td>3</td>\n",
       "      <td>...</td>\n",
       "      <td>Indian Rupees(Rs.)</td>\n",
       "      <td>No</td>\n",
       "      <td>No</td>\n",
       "      <td>No</td>\n",
       "      <td>No</td>\n",
       "      <td>2</td>\n",
       "      <td>3.5</td>\n",
       "      <td>Yellow</td>\n",
       "      <td>Good</td>\n",
       "      <td>71</td>\n",
       "    </tr>\n",
       "    <tr>\n",
       "      <th>2</th>\n",
       "      <td>3400005</td>\n",
       "      <td>Time2Eat - Mama Chicken</td>\n",
       "      <td>1</td>\n",
       "      <td>Agra</td>\n",
       "      <td>Main Market, Sadar Bazaar, Agra Cantt, Agra</td>\n",
       "      <td>Agra Cantt</td>\n",
       "      <td>Agra Cantt, Agra</td>\n",
       "      <td>78.011608</td>\n",
       "      <td>27.160832</td>\n",
       "      <td>2</td>\n",
       "      <td>...</td>\n",
       "      <td>Indian Rupees(Rs.)</td>\n",
       "      <td>No</td>\n",
       "      <td>No</td>\n",
       "      <td>No</td>\n",
       "      <td>No</td>\n",
       "      <td>2</td>\n",
       "      <td>3.6</td>\n",
       "      <td>Yellow</td>\n",
       "      <td>Good</td>\n",
       "      <td>94</td>\n",
       "    </tr>\n",
       "    <tr>\n",
       "      <th>3</th>\n",
       "      <td>3400021</td>\n",
       "      <td>Chokho Jeeman Marwari Jain Bhojanalya</td>\n",
       "      <td>1</td>\n",
       "      <td>Agra</td>\n",
       "      <td>1/48, Delhi Gate, Station Road, Raja Mandi, Ci...</td>\n",
       "      <td>Civil Lines</td>\n",
       "      <td>Civil Lines, Agra</td>\n",
       "      <td>77.998092</td>\n",
       "      <td>27.195928</td>\n",
       "      <td>1</td>\n",
       "      <td>...</td>\n",
       "      <td>Indian Rupees(Rs.)</td>\n",
       "      <td>No</td>\n",
       "      <td>No</td>\n",
       "      <td>No</td>\n",
       "      <td>No</td>\n",
       "      <td>2</td>\n",
       "      <td>4.0</td>\n",
       "      <td>Green</td>\n",
       "      <td>Very Good</td>\n",
       "      <td>87</td>\n",
       "    </tr>\n",
       "    <tr>\n",
       "      <th>4</th>\n",
       "      <td>3400017</td>\n",
       "      <td>Pinch Of Spice</td>\n",
       "      <td>1</td>\n",
       "      <td>Agra</td>\n",
       "      <td>23/453, Opposite Sanjay Cinema, Wazipura Road,...</td>\n",
       "      <td>Civil Lines</td>\n",
       "      <td>Civil Lines, Agra</td>\n",
       "      <td>78.007553</td>\n",
       "      <td>27.201725</td>\n",
       "      <td>4</td>\n",
       "      <td>...</td>\n",
       "      <td>Indian Rupees(Rs.)</td>\n",
       "      <td>No</td>\n",
       "      <td>No</td>\n",
       "      <td>No</td>\n",
       "      <td>No</td>\n",
       "      <td>3</td>\n",
       "      <td>4.2</td>\n",
       "      <td>Green</td>\n",
       "      <td>Very Good</td>\n",
       "      <td>177</td>\n",
       "    </tr>\n",
       "  </tbody>\n",
       "</table>\n",
       "<p>5 rows × 21 columns</p>\n",
       "</div>"
      ],
      "text/plain": [
       "   Restaurant ID                        Restaurant Name  Country Code  City  \\\n",
       "0        3400025                             Jahanpanah             1  Agra   \n",
       "1        3400341                    Rangrezz Restaurant             1  Agra   \n",
       "2        3400005                Time2Eat - Mama Chicken             1  Agra   \n",
       "3        3400021  Chokho Jeeman Marwari Jain Bhojanalya             1  Agra   \n",
       "4        3400017                         Pinch Of Spice             1  Agra   \n",
       "\n",
       "                                             Address     Locality  \\\n",
       "0  E 23, Shopping Arcade, Sadar Bazaar, Agra Cant...   Agra Cantt   \n",
       "1  E-20, Shopping Arcade, Sadar Bazaar, Agra Cant...   Agra Cantt   \n",
       "2        Main Market, Sadar Bazaar, Agra Cantt, Agra   Agra Cantt   \n",
       "3  1/48, Delhi Gate, Station Road, Raja Mandi, Ci...  Civil Lines   \n",
       "4  23/453, Opposite Sanjay Cinema, Wazipura Road,...  Civil Lines   \n",
       "\n",
       "    Locality Verbose  Longitude   Latitude Cuisines  ...             Currency  \\\n",
       "0   Agra Cantt, Agra  78.011544  27.161661        3  ...   Indian Rupees(Rs.)   \n",
       "1   Agra Cantt, Agra   0.000000   0.000000        3  ...   Indian Rupees(Rs.)   \n",
       "2   Agra Cantt, Agra  78.011608  27.160832        2  ...   Indian Rupees(Rs.)   \n",
       "3  Civil Lines, Agra  77.998092  27.195928        1  ...   Indian Rupees(Rs.)   \n",
       "4  Civil Lines, Agra  78.007553  27.201725        4  ...   Indian Rupees(Rs.)   \n",
       "\n",
       "  Has Table booking Has Online delivery Is delivering now  \\\n",
       "0                No                  No                No   \n",
       "1                No                  No                No   \n",
       "2                No                  No                No   \n",
       "3                No                  No                No   \n",
       "4                No                  No                No   \n",
       "\n",
       "  Switch to order menu Price range  Aggregate rating  Rating color  \\\n",
       "0                   No           3               3.9        Yellow   \n",
       "1                   No           2               3.5        Yellow   \n",
       "2                   No           2               3.6        Yellow   \n",
       "3                   No           2               4.0         Green   \n",
       "4                   No           3               4.2         Green   \n",
       "\n",
       "  Rating text Votes  \n",
       "0        Good   140  \n",
       "1        Good    71  \n",
       "2        Good    94  \n",
       "3   Very Good    87  \n",
       "4   Very Good   177  \n",
       "\n",
       "[5 rows x 21 columns]"
      ]
     },
     "execution_count": 58,
     "metadata": {},
     "output_type": "execute_result"
    }
   ],
   "source": [
    "data.head()"
   ]
  },
  {
   "cell_type": "code",
   "execution_count": 59,
   "metadata": {},
   "outputs": [
    {
     "data": {
      "text/plain": [
       "0.0    2139\n",
       "3.1     511\n",
       "3.2     510\n",
       "3.4     477\n",
       "3.3     472\n",
       "3.0     465\n",
       "3.5     454\n",
       "3.6     411\n",
       "2.9     380\n",
       "3.7     363\n",
       "3.8     336\n",
       "2.8     314\n",
       "3.9     283\n",
       "2.7     250\n",
       "4.0     193\n",
       "2.6     190\n",
       "4.1     185\n",
       "4.2     140\n",
       "2.5     109\n",
       "4.3     100\n",
       "2.4      83\n",
       "4.4      74\n",
       "2.3      46\n",
       "4.5      37\n",
       "4.6      35\n",
       "2.2      26\n",
       "4.9      19\n",
       "4.7      16\n",
       "2.1      15\n",
       "4.8       9\n",
       "2.0       7\n",
       "1.9       2\n",
       "1.8       1\n",
       "Name: Aggregate rating, dtype: int64"
      ]
     },
     "execution_count": 59,
     "metadata": {},
     "output_type": "execute_result"
    }
   ],
   "source": [
    "data['Aggregate rating'].value_counts()"
   ]
  },
  {
   "cell_type": "code",
   "execution_count": 60,
   "metadata": {},
   "outputs": [],
   "source": [
    "data.reset_index(drop=True, inplace=True)\n",
    "toDrop = []\n",
    "for i in range(len(data['Aggregate rating'])):\n",
    "    curr = data['Aggregate rating'][i]\n",
    "    if (curr == 0.0):\n",
    "        toDrop.append(i)\n",
    "        \n",
    "data.drop(toDrop, inplace=True)\n",
    "data.reset_index(drop=True, inplace=True)"
   ]
  },
  {
   "cell_type": "code",
   "execution_count": 61,
   "metadata": {},
   "outputs": [],
   "source": [
    "cleanedData = data[want]"
   ]
  },
  {
   "cell_type": "code",
   "execution_count": 62,
   "metadata": {},
   "outputs": [
    {
     "data": {
      "text/html": [
       "<div>\n",
       "<style scoped>\n",
       "    .dataframe tbody tr th:only-of-type {\n",
       "        vertical-align: middle;\n",
       "    }\n",
       "\n",
       "    .dataframe tbody tr th {\n",
       "        vertical-align: top;\n",
       "    }\n",
       "\n",
       "    .dataframe thead th {\n",
       "        text-align: right;\n",
       "    }\n",
       "</style>\n",
       "<table border=\"1\" class=\"dataframe\">\n",
       "  <thead>\n",
       "    <tr style=\"text-align: right;\">\n",
       "      <th></th>\n",
       "      <th>Cuisines</th>\n",
       "      <th>Average Cost for two</th>\n",
       "      <th>Has Table booking</th>\n",
       "      <th>Has Online delivery</th>\n",
       "      <th>Price range</th>\n",
       "      <th>Aggregate rating</th>\n",
       "    </tr>\n",
       "  </thead>\n",
       "  <tbody>\n",
       "    <tr>\n",
       "      <th>0</th>\n",
       "      <td>3</td>\n",
       "      <td>12.177650</td>\n",
       "      <td>No</td>\n",
       "      <td>No</td>\n",
       "      <td>3</td>\n",
       "      <td>3.9</td>\n",
       "    </tr>\n",
       "    <tr>\n",
       "      <th>1</th>\n",
       "      <td>3</td>\n",
       "      <td>10.028653</td>\n",
       "      <td>No</td>\n",
       "      <td>No</td>\n",
       "      <td>2</td>\n",
       "      <td>3.5</td>\n",
       "    </tr>\n",
       "    <tr>\n",
       "      <th>2</th>\n",
       "      <td>2</td>\n",
       "      <td>7.163324</td>\n",
       "      <td>No</td>\n",
       "      <td>No</td>\n",
       "      <td>2</td>\n",
       "      <td>3.6</td>\n",
       "    </tr>\n",
       "    <tr>\n",
       "      <th>3</th>\n",
       "      <td>1</td>\n",
       "      <td>5.730659</td>\n",
       "      <td>No</td>\n",
       "      <td>No</td>\n",
       "      <td>2</td>\n",
       "      <td>4.0</td>\n",
       "    </tr>\n",
       "    <tr>\n",
       "      <th>4</th>\n",
       "      <td>4</td>\n",
       "      <td>14.326648</td>\n",
       "      <td>No</td>\n",
       "      <td>No</td>\n",
       "      <td>3</td>\n",
       "      <td>4.2</td>\n",
       "    </tr>\n",
       "  </tbody>\n",
       "</table>\n",
       "</div>"
      ],
      "text/plain": [
       "  Cuisines  Average Cost for two Has Table booking Has Online delivery  \\\n",
       "0        3             12.177650                No                  No   \n",
       "1        3             10.028653                No                  No   \n",
       "2        2              7.163324                No                  No   \n",
       "3        1              5.730659                No                  No   \n",
       "4        4             14.326648                No                  No   \n",
       "\n",
       "   Price range  Aggregate rating  \n",
       "0            3               3.9  \n",
       "1            2               3.5  \n",
       "2            2               3.6  \n",
       "3            2               4.0  \n",
       "4            3               4.2  "
      ]
     },
     "execution_count": 62,
     "metadata": {},
     "output_type": "execute_result"
    }
   ],
   "source": [
    "cleanedData.head()"
   ]
  },
  {
   "cell_type": "code",
   "execution_count": 63,
   "metadata": {},
   "outputs": [
    {
     "data": {
      "text/plain": [
       "pandas.core.frame.DataFrame"
      ]
     },
     "execution_count": 63,
     "metadata": {},
     "output_type": "execute_result"
    }
   ],
   "source": [
    "type(cleanedData)"
   ]
  },
  {
   "cell_type": "code",
   "execution_count": 64,
   "metadata": {},
   "outputs": [],
   "source": [
    "cleanedData.to_csv('CleanedData.csv', index=False)"
   ]
  }
 ],
 "metadata": {
  "kernelspec": {
   "display_name": "Python 3",
   "language": "python",
   "name": "python3"
  },
  "language_info": {
   "codemirror_mode": {
    "name": "ipython",
    "version": 3
   },
   "file_extension": ".py",
   "mimetype": "text/x-python",
   "name": "python",
   "nbconvert_exporter": "python",
   "pygments_lexer": "ipython3",
   "version": "3.5.4"
  }
 },
 "nbformat": 4,
 "nbformat_minor": 2
}
